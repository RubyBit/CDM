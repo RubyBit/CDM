{
 "cells": [
  {
   "cell_type": "code",
   "execution_count": 1,
   "metadata": {},
   "outputs": [
    {
     "name": "stdout",
     "output_type": "stream",
     "text": [
      "Requirement already satisfied: torchsummary in c:\\users\\20210826\\appdata\\local\\packages\\pythonsoftwarefoundation.python.3.10_qbz5n2kfra8p0\\localcache\\local-packages\\python310\\site-packages (1.5.1)\n"
     ]
    },
    {
     "name": "stderr",
     "output_type": "stream",
     "text": [
      "\n",
      "[notice] A new release of pip available: 22.3.1 -> 23.0\n",
      "[notice] To update, run: C:\\Users\\20210826\\AppData\\Local\\Microsoft\\WindowsApps\\PythonSoftwareFoundation.Python.3.10_qbz5n2kfra8p0\\python.exe -m pip install --upgrade pip\n",
      "\n",
      "[notice] A new release of pip available: 22.3.1 -> 23.0\n",
      "[notice] To update, run: C:\\Users\\20210826\\AppData\\Local\\Microsoft\\WindowsApps\\PythonSoftwareFoundation.Python.3.10_qbz5n2kfra8p0\\python.exe -m pip install --upgrade pip\n"
     ]
    },
    {
     "name": "stdout",
     "output_type": "stream",
     "text": [
      "Requirement already satisfied: torchvision in c:\\users\\20210826\\appdata\\local\\packages\\pythonsoftwarefoundation.python.3.10_qbz5n2kfra8p0\\localcache\\local-packages\\python310\\site-packages (0.14.1)\n",
      "Requirement already satisfied: pillow!=8.3.*,>=5.3.0 in c:\\users\\20210826\\appdata\\local\\packages\\pythonsoftwarefoundation.python.3.10_qbz5n2kfra8p0\\localcache\\local-packages\\python310\\site-packages (from torchvision) (9.4.0)\n",
      "Requirement already satisfied: numpy in c:\\users\\20210826\\appdata\\local\\packages\\pythonsoftwarefoundation.python.3.10_qbz5n2kfra8p0\\localcache\\local-packages\\python310\\site-packages (from torchvision) (1.24.2)\n",
      "Requirement already satisfied: requests in c:\\users\\20210826\\appdata\\local\\packages\\pythonsoftwarefoundation.python.3.10_qbz5n2kfra8p0\\localcache\\local-packages\\python310\\site-packages (from torchvision) (2.28.2)\n",
      "Requirement already satisfied: typing-extensions in c:\\users\\20210826\\appdata\\local\\packages\\pythonsoftwarefoundation.python.3.10_qbz5n2kfra8p0\\localcache\\local-packages\\python310\\site-packages (from torchvision) (4.4.0)\n",
      "Requirement already satisfied: torch==1.13.1 in c:\\users\\20210826\\appdata\\local\\packages\\pythonsoftwarefoundation.python.3.10_qbz5n2kfra8p0\\localcache\\local-packages\\python310\\site-packages (from torchvision) (1.13.1)\n",
      "Requirement already satisfied: charset-normalizer<4,>=2 in c:\\users\\20210826\\appdata\\local\\packages\\pythonsoftwarefoundation.python.3.10_qbz5n2kfra8p0\\localcache\\local-packages\\python310\\site-packages (from requests->torchvision) (3.0.1)\n",
      "Requirement already satisfied: urllib3<1.27,>=1.21.1 in c:\\users\\20210826\\appdata\\local\\packages\\pythonsoftwarefoundation.python.3.10_qbz5n2kfra8p0\\localcache\\local-packages\\python310\\site-packages (from requests->torchvision) (1.26.14)\n",
      "Requirement already satisfied: certifi>=2017.4.17 in c:\\users\\20210826\\appdata\\local\\packages\\pythonsoftwarefoundation.python.3.10_qbz5n2kfra8p0\\localcache\\local-packages\\python310\\site-packages (from requests->torchvision) (2022.12.7)\n",
      "Requirement already satisfied: idna<4,>=2.5 in c:\\users\\20210826\\appdata\\local\\packages\\pythonsoftwarefoundation.python.3.10_qbz5n2kfra8p0\\localcache\\local-packages\\python310\\site-packages (from requests->torchvision) (3.4)\n"
     ]
    }
   ],
   "source": [
    "!pip install torchsummary\n",
    "!pip install torchvision \n",
    "import math\n",
    "from inspect import isfunction\n",
    "from functools import partial\n",
    "\n",
    "%matplotlib inline\n",
    "import matplotlib.pyplot as plt\n",
    "#from einops import rearrange\n",
    "\n",
    "import torch\n",
    "import torch.nn as nn\n",
    "import torch.nn.functional as F\n",
    "import torchvision\n",
    "import numpy as np\n",
    "from torchvision import transforms\n",
    "from torchvision.utils import make_grid"
   ]
  },
  {
   "cell_type": "code",
   "execution_count": 2,
   "metadata": {},
   "outputs": [],
   "source": [
    "class Encoder(nn.Module):\n",
    "\n",
    "    def __init__(self,\n",
    "                 num_input_channels : int,\n",
    "                 base_channel_size : int,\n",
    "                 latent_dim : int,\n",
    "                 act_fn : object = nn.GELU):\n",
    "\n",
    "        super().__init__()\n",
    "        c_hid = base_channel_size\n",
    "        self.net = nn.Sequential(\n",
    "            nn.Conv2d(num_input_channels, c_hid, kernel_size=3, padding=1, stride=2), \n",
    "            act_fn(),\n",
    "            nn.Conv2d(c_hid, c_hid, kernel_size=3, padding=1),\n",
    "            act_fn(),\n",
    "            nn.Conv2d(c_hid, 2*c_hid, kernel_size=3, padding=1, stride=2), \n",
    "            act_fn(),\n",
    "            nn.Conv2d(2*c_hid, 2*c_hid, kernel_size=3, padding=1),\n",
    "            act_fn(),\n",
    "            nn.Conv2d(2*c_hid, 2*c_hid, kernel_size=3, padding=1, stride=2),\n",
    "            act_fn(),\n",
    "            nn.Flatten(), \n",
    "            nn.Linear(2*16*c_hid, latent_dim)\n",
    "        )\n",
    "\n",
    "    def forward(self, x):\n",
    "        return self.net(x)\n",
    "\n",
    "class Decoder(nn.Module):\n",
    "\n",
    "    def __init__(self,\n",
    "                 num_input_channels : int,\n",
    "                 base_channel_size : int,\n",
    "                 latent_dim : int,\n",
    "                 act_fn : object = nn.GELU):\n",
    "\n",
    "        super().__init__()\n",
    "        c_hid = base_channel_size\n",
    "        self.linear = nn.Sequential(\n",
    "            nn.Linear(latent_dim, 2*16*c_hid),\n",
    "            act_fn()\n",
    "        )\n",
    "        self.net = nn.Sequential(\n",
    "            nn.ConvTranspose2d(2*c_hid, 2*c_hid, kernel_size=3, output_padding=1, padding=1, stride=2),\n",
    "            act_fn(),\n",
    "            nn.Conv2d(2*c_hid, 2*c_hid, kernel_size=3, padding=1),\n",
    "            act_fn(),\n",
    "            nn.ConvTranspose2d(2*c_hid, c_hid, kernel_size=3, output_padding=1, padding=1, stride=2), \n",
    "            act_fn(),\n",
    "            nn.Conv2d(c_hid, c_hid, kernel_size=3, padding=0),\n",
    "            act_fn(),\n",
    "            nn.ConvTranspose2d(c_hid, num_input_channels, kernel_size=3, output_padding=1, padding=1, stride=2),\n",
    "            nn.Tanh() \n",
    "        )\n",
    "\n",
    "    def forward(self, x):\n",
    "        x = self.linear(x)\n",
    "        x = x.reshape(x.shape[0], -1, 4, 4)\n",
    "        x = self.net(x)\n",
    "        return x"
   ]
  },
  {
   "cell_type": "code",
   "execution_count": null,
   "metadata": {},
   "outputs": [],
   "source": []
  },
  {
   "cell_type": "code",
   "execution_count": null,
   "metadata": {},
   "outputs": [],
   "source": [
    "#MODEL REUSING https://learn.microsoft.com/en-us/windows/ai/windows-ml/tutorials/pytorch-analysis-train-model"
   ]
  },
  {
   "cell_type": "code",
   "execution_count": 52,
   "metadata": {},
   "outputs": [],
   "source": [
    "def train(epoch, train_loader, optimizer, encoder, decoder):\n",
    "    log_interval=50\n",
    "    train_losses = []\n",
    "    train_counter = []\n",
    "    loss_f= torch.nn.MSELoss()\n",
    "    encoder.train()\n",
    "    decoder.train()\n",
    "    for batch_idx, (data, target) in enumerate(train_loader):\n",
    "        optimizer.zero_grad()\n",
    "        encoded_data = encoder(data)\n",
    "        # Decode data\n",
    "        decoded_data = decoder(encoded_data)\n",
    "        loss = loss_f(decoded_data, data)\n",
    "        loss.backward()\n",
    "        optimizer.step()\n",
    "        if batch_idx % log_interval == 0:\n",
    "            print('Train Epoch: {} [{}/{} ({:.0f}%)]\\tLoss: {:.6f}'.format(\n",
    "            epoch, batch_idx * len(data), len(train_loader.dataset),\n",
    "            100. * batch_idx / len(train_loader), loss.item()))\n",
    "            train_losses.append(loss.item())\n",
    "            train_counter.append(\n",
    "            (batch_idx*1000) + ((epoch-1)*len(train_loader.dataset)))\n",
    "def test(test_loader, encoder, decoder):\n",
    "    loss_f= torch.nn.MSELoss()\n",
    "    test_losses = []\n",
    "    encoder.eval()\n",
    "    decoder.eval()\n",
    "    test_loss = 0\n",
    "    with torch.no_grad():\n",
    "        for data, target in test_loader:\n",
    "            encoded_data = encoder(data)\n",
    "            # Decode data\n",
    "            global output\n",
    "            output= decoder(encoded_data)\n",
    "            test_loss += loss_f(output,data).item()\n",
    "    test_loss /= len(test_loader.dataset)\n",
    "    test_losses.append(test_loss)\n",
    "    print('\\nTest set: Avg. loss: {:.4f} \\n'.format(\n",
    "        test_loss))\n",
    "    #output image plotting\n",
    "    fig, ax = plt.subplots(figsize=(30,30))\n",
    "    print(output.shape)\n",
    "    img=torchvision.utils.make_grid(output[:10],10,1)\n",
    "    print(output[:100].shape, img.shape)\n",
    "    npimg = img.numpy()\n",
    "    # fig.add_subplot(2, 2, 1)\n",
    "    plt.imshow(np.transpose(npimg, (1, 2, 0)))\n",
    "    # img=torchvision.utils.make_grid(output[:10],10,3)\n",
    "    # print(output[:100].shape, img.shape)\n",
    "    # npimg = img.numpy()\n",
    "    # fig.add_subplot(2, 2, 2)\n",
    "    # plt.imshow(np.transpose(npimg, (1, 2, 0)))\n",
    "    # img=torchvision.utils.make_grid(output[:100],7,4)\n",
    "    # print(output[:100].shape, img.shape)\n",
    "    # npimg = img.numpy()\n",
    "    # fig.add_subplot(2, 2, 3)\n",
    "    # plt.imshow(np.transpose(npimg, (1, 2, 0)))\n",
    "    # img=torchvision.utils.make_grid(output[:100],5,6)\n",
    "    # print(output[:100].shape, img.shape)\n",
    "    # npimg = img.numpy()\n",
    "    # fig.add_subplot(2, 2, 3)\n",
    "    # plt.imshow(np.transpose(npimg, (1, 2, 0)))\n",
    "    #plt.show()\n",
    "\n",
    "def short_cut(n_epochs, batch_size_train,batch_size_test):\n",
    "    train_loader = torch.utils.data.DataLoader(\n",
    "    torchvision.datasets.MNIST('./', train=True, download=False,\n",
    "                                transform=torchvision.transforms.Compose([\n",
    "                                torchvision.transforms.ToTensor(),\n",
    "                                torchvision.transforms.Normalize(\n",
    "                                    (0.1307,), (0.3081,))\n",
    "                                ])),batch_size=batch_size_train, shuffle=True)\n",
    "\n",
    "    test_loader = torch.utils.data.DataLoader(\n",
    "    torchvision.datasets.MNIST('./', train=False, download=False,\n",
    "                                transform=torchvision.transforms.Compose([\n",
    "                                torchvision.transforms.ToTensor(),\n",
    "                                torchvision.transforms.Normalize(\n",
    "                                    (0.1307,), (0.3081,))\n",
    "                                ])),batch_size=batch_size_test, shuffle=True)\n",
    "\n",
    "    encoder=Encoder(num_input_channels=1, base_channel_size=32, latent_dim=256)\n",
    "    decoder=Decoder(num_input_channels=1, base_channel_size=32, latent_dim=256)\n",
    "    mean = (0.1307, )\n",
    "    std = (0.3081, ) \n",
    "    learning_rate = 0.01\n",
    "\n",
    "    params_to_optimize = [\n",
    "        {'params': encoder.parameters()},\n",
    "        {'params': decoder.parameters()}\n",
    "    ]\n",
    "    optimizer = torch.optim.Adam(params_to_optimize,lr=learning_rate)\n",
    "\n",
    "    for epoch in range(1, n_epochs + 1):\n",
    "        train(epoch=epoch, train_loader=train_loader, optimizer=optimizer, encoder=encoder,decoder=decoder)\n",
    "    test(test_loader=test_loader, encoder=encoder,decoder=decoder)"
   ]
  },
  {
   "cell_type": "code",
   "execution_count": 75,
   "metadata": {},
   "outputs": [
    {
     "name": "stderr",
     "output_type": "stream",
     "text": [
      "Clipping input data to the valid range for imshow with RGB data ([0..1] for floats or [0..255] for integers).\n"
     ]
    },
    {
     "name": "stdout",
     "output_type": "stream",
     "text": [
      "torch.Size([100, 1, 28, 28])\n",
      "torch.Size([100, 1, 28, 28]) torch.Size([3, 313, 313])\n"
     ]
    },
    {
     "data": {
      "text/plain": [
       "<matplotlib.image.AxesImage at 0x1d32fe46cb0>"
      ]
     },
     "execution_count": 75,
     "metadata": {},
     "output_type": "execute_result"
    },
    {
     "data": {
      "image/png": "[encoded data removed]",
      "text/plain": [
       "<Figure size 640x480 with 1 Axes>"
      ]
     },
     "metadata": {},
     "output_type": "display_data"
    }
   ],
   "source": [
    "print(output.shape)\n",
    "img=torchvision.utils.make_grid(output[:100], 10, 3)\n",
    "print(output[:100].shape, img.shape)\n",
    "npimg = img.numpy()\n",
    "# fig.add_subplot(2, 2, 1)\n",
    "plt.imshow(np.transpose(npimg, (1, 2, 0)))"
   ]
  },
  {
   "cell_type": "code",
   "execution_count": 77,
   "metadata": {},
   "outputs": [
    {
     "name": "stdout",
     "output_type": "stream",
     "text": [
      "Train Epoch: 1 [0/60000 (0%)]\tLoss: 1.027739\n",
      "Train Epoch: 1 [5000/60000 (8%)]\tLoss: 0.675669\n",
      "Train Epoch: 1 [10000/60000 (17%)]\tLoss: 0.630236\n",
      "Train Epoch: 1 [15000/60000 (25%)]\tLoss: 0.544808\n",
      "Train Epoch: 1 [20000/60000 (33%)]\tLoss: 0.511214\n",
      "Train Epoch: 1 [25000/60000 (42%)]\tLoss: 0.496285\n",
      "Train Epoch: 1 [30000/60000 (50%)]\tLoss: 0.489460\n",
      "Train Epoch: 1 [35000/60000 (58%)]\tLoss: 0.461038\n",
      "Train Epoch: 1 [40000/60000 (67%)]\tLoss: 0.465351\n",
      "Train Epoch: 1 [45000/60000 (75%)]\tLoss: 0.420636\n",
      "Train Epoch: 1 [50000/60000 (83%)]\tLoss: 0.389321\n",
      "Train Epoch: 1 [55000/60000 (92%)]\tLoss: 0.408430\n",
      "Train Epoch: 2 [0/60000 (0%)]\tLoss: 0.368510\n",
      "Train Epoch: 2 [5000/60000 (8%)]\tLoss: 0.364187\n",
      "Train Epoch: 2 [10000/60000 (17%)]\tLoss: 0.375910\n",
      "Train Epoch: 2 [15000/60000 (25%)]\tLoss: 0.394320\n",
      "Train Epoch: 2 [20000/60000 (33%)]\tLoss: 0.388102\n",
      "Train Epoch: 2 [25000/60000 (42%)]\tLoss: 0.339446\n",
      "Train Epoch: 2 [30000/60000 (50%)]\tLoss: 0.368534\n",
      "Train Epoch: 2 [35000/60000 (58%)]\tLoss: 0.361195\n",
      "Train Epoch: 2 [40000/60000 (67%)]\tLoss: 0.355974\n",
      "Train Epoch: 2 [45000/60000 (75%)]\tLoss: 0.338894\n",
      "Train Epoch: 2 [50000/60000 (83%)]\tLoss: 0.338408\n",
      "Train Epoch: 2 [55000/60000 (92%)]\tLoss: 0.370518\n",
      "Train Epoch: 3 [0/60000 (0%)]\tLoss: 0.372742\n",
      "Train Epoch: 3 [5000/60000 (8%)]\tLoss: 0.337195\n",
      "Train Epoch: 3 [10000/60000 (17%)]\tLoss: 0.370601\n",
      "Train Epoch: 3 [15000/60000 (25%)]\tLoss: 0.354526\n",
      "Train Epoch: 3 [20000/60000 (33%)]\tLoss: 0.365198\n",
      "Train Epoch: 3 [25000/60000 (42%)]\tLoss: 0.378073\n",
      "Train Epoch: 3 [30000/60000 (50%)]\tLoss: 0.333975\n",
      "Train Epoch: 3 [35000/60000 (58%)]\tLoss: 0.364784\n",
      "Train Epoch: 3 [40000/60000 (67%)]\tLoss: 0.349005\n",
      "Train Epoch: 3 [45000/60000 (75%)]\tLoss: 0.340123\n",
      "Train Epoch: 3 [50000/60000 (83%)]\tLoss: 0.352199\n",
      "Train Epoch: 3 [55000/60000 (92%)]\tLoss: 0.360492\n",
      "Train Epoch: 4 [0/60000 (0%)]\tLoss: 0.340778\n",
      "Train Epoch: 4 [5000/60000 (8%)]\tLoss: 0.344851\n",
      "Train Epoch: 4 [10000/60000 (17%)]\tLoss: 0.361558\n",
      "Train Epoch: 4 [15000/60000 (25%)]\tLoss: 0.343653\n",
      "Train Epoch: 4 [20000/60000 (33%)]\tLoss: 0.342892\n",
      "Train Epoch: 4 [25000/60000 (42%)]\tLoss: 0.324094\n",
      "Train Epoch: 4 [30000/60000 (50%)]\tLoss: 0.325237\n",
      "Train Epoch: 4 [35000/60000 (58%)]\tLoss: 0.320051\n",
      "Train Epoch: 4 [40000/60000 (67%)]\tLoss: 0.347896\n",
      "Train Epoch: 4 [45000/60000 (75%)]\tLoss: 0.338849\n",
      "Train Epoch: 4 [50000/60000 (83%)]\tLoss: 0.335744\n",
      "Train Epoch: 4 [55000/60000 (92%)]\tLoss: 0.353586\n",
      "Train Epoch: 5 [0/60000 (0%)]\tLoss: 0.326215\n",
      "Train Epoch: 5 [5000/60000 (8%)]\tLoss: 0.332647\n",
      "Train Epoch: 5 [10000/60000 (17%)]\tLoss: 0.334952\n",
      "Train Epoch: 5 [15000/60000 (25%)]\tLoss: 0.336142\n",
      "Train Epoch: 5 [20000/60000 (33%)]\tLoss: 0.339206\n",
      "Train Epoch: 5 [25000/60000 (42%)]\tLoss: 0.332601\n",
      "Train Epoch: 5 [30000/60000 (50%)]\tLoss: 0.351580\n",
      "Train Epoch: 5 [35000/60000 (58%)]\tLoss: 0.359713\n",
      "Train Epoch: 5 [40000/60000 (67%)]\tLoss: 0.353279\n",
      "Train Epoch: 5 [45000/60000 (75%)]\tLoss: 0.330630\n",
      "Train Epoch: 5 [50000/60000 (83%)]\tLoss: 0.329152\n",
      "Train Epoch: 5 [55000/60000 (92%)]\tLoss: 0.335347\n",
      "Train Epoch: 6 [0/60000 (0%)]\tLoss: 0.323680\n",
      "Train Epoch: 6 [5000/60000 (8%)]\tLoss: 0.326695\n",
      "Train Epoch: 6 [10000/60000 (17%)]\tLoss: 0.324749\n",
      "Train Epoch: 6 [15000/60000 (25%)]\tLoss: 0.321596\n",
      "Train Epoch: 6 [20000/60000 (33%)]\tLoss: 0.330964\n",
      "Train Epoch: 6 [25000/60000 (42%)]\tLoss: 0.337111\n",
      "Train Epoch: 6 [30000/60000 (50%)]\tLoss: 0.349043\n",
      "Train Epoch: 6 [35000/60000 (58%)]\tLoss: 0.343094\n",
      "Train Epoch: 6 [40000/60000 (67%)]\tLoss: 0.338481\n",
      "Train Epoch: 6 [45000/60000 (75%)]\tLoss: 0.322576\n",
      "Train Epoch: 6 [50000/60000 (83%)]\tLoss: 0.325732\n",
      "Train Epoch: 6 [55000/60000 (92%)]\tLoss: 0.346838\n",
      "Train Epoch: 7 [0/60000 (0%)]\tLoss: 0.345817\n",
      "Train Epoch: 7 [5000/60000 (8%)]\tLoss: 0.334938\n",
      "Train Epoch: 7 [10000/60000 (17%)]\tLoss: 0.329485\n",
      "Train Epoch: 7 [15000/60000 (25%)]\tLoss: 0.332247\n",
      "Train Epoch: 7 [20000/60000 (33%)]\tLoss: 0.321907\n",
      "Train Epoch: 7 [25000/60000 (42%)]\tLoss: 0.330540\n",
      "Train Epoch: 7 [30000/60000 (50%)]\tLoss: 0.340819\n",
      "Train Epoch: 7 [35000/60000 (58%)]\tLoss: 0.333098\n",
      "Train Epoch: 7 [40000/60000 (67%)]\tLoss: 0.305948\n",
      "Train Epoch: 7 [45000/60000 (75%)]\tLoss: 0.348100\n",
      "Train Epoch: 7 [50000/60000 (83%)]\tLoss: 0.332589\n",
      "Train Epoch: 7 [55000/60000 (92%)]\tLoss: 0.367061\n"
     ]
    },
    {
     "name": "stderr",
     "output_type": "stream",
     "text": [
      "Clipping input data to the valid range for imshow with RGB data ([0..1] for floats or [0..255] for integers).\n",
      "Clipping input data to the valid range for imshow with RGB data ([0..1] for floats or [0..255] for integers).\n"
     ]
    },
    {
     "name": "stdout",
     "output_type": "stream",
     "text": [
      "\n",
      "Test set: Avg. loss: 0.0034 \n",
      "\n",
      "torch.Size([100, 1, 28, 28])\n",
      "torch.Size([100, 1, 28, 28]) torch.Size([3, 30, 291])\n",
      "torch.Size([100, 1, 28, 28])\n",
      "torch.Size([100, 1, 28, 28]) torch.Size([3, 62, 242])\n"
     ]
    },
    {
     "data": {
      "text/plain": [
       "<matplotlib.image.AxesImage at 0x1d32a53abf0>"
      ]
     },
     "execution_count": 77,
     "metadata": {},
     "output_type": "execute_result"
    },
    {
     "data": {
      "image/png": "[encoded data removed]",
      "text/plain": [
       "<Figure size 3000x3000 with 1 Axes>"
      ]
     },
     "metadata": {},
     "output_type": "display_data"
    }
   ],
   "source": [
    "short_cut(7,100,100)\n",
    "\n",
    "print(output.shape)\n",
    "img=torchvision.utils.make_grid(output[:10])\n",
    "print(output[:100].shape, img.shape)\n",
    "npimg = img.numpy()\n",
    "# fig.add_subplot(2, 2, 1)\n",
    "plt.imshow(np.transpose(npimg, (1, 2, 0)))"
   ]
  },
  {
   "cell_type": "code",
   "execution_count": 1,
   "metadata": {},
   "outputs": [
    {
     "ename": "SyntaxError",
     "evalue": "invalid syntax (598508816.py, line 34)",
     "output_type": "error",
     "traceback": [
      "\u001b[1;36m  Cell \u001b[1;32mIn[1], line 34\u001b[1;36m\u001b[0m\n\u001b[1;33m    https://www.kaggle.com/code/teyang/neural-network-mnist-using-pytorch/notebook\u001b[0m\n\u001b[1;37m          ^\u001b[0m\n\u001b[1;31mSyntaxError\u001b[0m\u001b[1;31m:\u001b[0m invalid syntax\n"
     ]
    }
   ],
   "source": [
    "batch_size_train=5\n",
    "batch_size_test =5\n",
    "\n",
    "train_loader = torch.utils.data.DataLoader(\n",
    "torchvision.datasets.MNIST('./', train=True, download=False,\n",
    "                            transform=torchvision.transforms.Compose([\n",
    "                            torchvision.transforms.ToTensor()\n",
    "                            ])),batch_size=batch_size_train, shuffle=True)\n",
    "\n",
    "test_loader = torch.utils.data.DataLoader(\n",
    "torchvision.datasets.MNIST('./', train=False, download=False,\n",
    "                            transform=torchvision.transforms.Compose([\n",
    "                            torchvision.transforms.ToTensor(),\n",
    "                            torchvision.transforms.Normalize(\n",
    "                                (0.1307,), (0.3081,))\n",
    "                            ])),batch_size=batch_size_test, shuffle=True)\n",
    "#for batch_idx, (data, target) in enumerate(train_loader):\n",
    "    ##print(batch_idx)\n",
    "    #fig, ax = plt.subplots(figsize=(20, 8.5))\n",
    "    #img=torchvision.utils.make_grid(data[:5],10,5)\n",
    "    #npimg = img.numpy()\n",
    "    #plt.imshow(np.transpose(npimg, (1, 2, 0)))\n",
    "    #plt.show()\n",
    "\n",
    "\n",
    "\n",
    "##for label, img  in enumerate(examples):\n",
    " #  print(img[]shape)\n",
    " #  plt.imshow(img.squeeze().permute((1,2)), cmap=\"gray\")\n",
    "   \n",
    "  # plt.show()\n",
    " #  print(f\"Label: {label}\")\n",
    "\n",
    "https://www.kaggle.com/code/teyang/neural-network-mnist-using-pytorch/notebook\n",
    "for img, _  in train_loader:\n",
    "    print('img.shape:', img.shape)\n",
    "    #plt.figure(figsize=(16,8))\n",
    "    #plt.axis('off')\n",
    "    grid_img=make_grid(img)\n",
    "    print('img.shape:', grid_img.shape)\n",
    "    plt.imshow(grid_img.permute(1, 2, 0))\n",
    "    break\n",
    "    #plt.show(img)\n",
    "#  break"
   ]
  },
  {
   "cell_type": "code",
   "execution_count": 83,
   "metadata": {},
   "outputs": [
    {
     "data": {
      "text/plain": [
       "torch.Size([5])"
      ]
     },
     "execution_count": 83,
     "metadata": {},
     "output_type": "execute_result"
    }
   ],
   "source": [
    "img.shape"
   ]
  },
  {
   "cell_type": "code",
   "execution_count": 36,
   "metadata": {},
   "outputs": [
    {
     "data": {
      "text/plain": [
       "torch.Size([5, 28, 28])"
      ]
     },
     "execution_count": 36,
     "metadata": {},
     "output_type": "execute_result"
    }
   ],
   "source": [
    "examples = next(iter(train_loader))\n",
    "examples[0].squeeze().shape"
   ]
  },
  {
   "cell_type": "code",
   "execution_count": 39,
   "metadata": {},
   "outputs": [
    {
     "name": "stdout",
     "output_type": "stream",
     "text": [
      "Downloading http://fashion-mnist.s3-website.eu-central-1.amazonaws.com/train-images-idx3-ubyte.gz\n",
      "Downloading http://fashion-mnist.s3-website.eu-central-1.amazonaws.com/train-images-idx3-ubyte.gz to data\\FashionMNIST\\raw\\train-images-idx3-ubyte.gz\n"
     ]
    },
    {
     "name": "stderr",
     "output_type": "stream",
     "text": [
      "100.0%\n"
     ]
    },
    {
     "name": "stdout",
     "output_type": "stream",
     "text": [
      "Extracting data\\FashionMNIST\\raw\\train-images-idx3-ubyte.gz to data\\FashionMNIST\\raw\n",
      "\n",
      "Downloading http://fashion-mnist.s3-website.eu-central-1.amazonaws.com/train-labels-idx1-ubyte.gz\n",
      "Downloading http://fashion-mnist.s3-website.eu-central-1.amazonaws.com/train-labels-idx1-ubyte.gz to data\\FashionMNIST\\raw\\train-labels-idx1-ubyte.gz\n"
     ]
    },
    {
     "name": "stderr",
     "output_type": "stream",
     "text": [
      "100.0%\n"
     ]
    },
    {
     "name": "stdout",
     "output_type": "stream",
     "text": [
      "Extracting data\\FashionMNIST\\raw\\train-labels-idx1-ubyte.gz to data\\FashionMNIST\\raw\n",
      "\n",
      "Downloading http://fashion-mnist.s3-website.eu-central-1.amazonaws.com/t10k-images-idx3-ubyte.gz\n",
      "Downloading http://fashion-mnist.s3-website.eu-central-1.amazonaws.com/t10k-images-idx3-ubyte.gz to data\\FashionMNIST\\raw\\t10k-images-idx3-ubyte.gz\n"
     ]
    },
    {
     "name": "stderr",
     "output_type": "stream",
     "text": [
      "100.0%\n"
     ]
    },
    {
     "name": "stdout",
     "output_type": "stream",
     "text": [
      "Extracting data\\FashionMNIST\\raw\\t10k-images-idx3-ubyte.gz to data\\FashionMNIST\\raw\n",
      "\n",
      "Downloading http://fashion-mnist.s3-website.eu-central-1.amazonaws.com/t10k-labels-idx1-ubyte.gz\n",
      "Downloading http://fashion-mnist.s3-website.eu-central-1.amazonaws.com/t10k-labels-idx1-ubyte.gz to data\\FashionMNIST\\raw\\t10k-labels-idx1-ubyte.gz\n"
     ]
    },
    {
     "name": "stderr",
     "output_type": "stream",
     "text": [
      "100.0%"
     ]
    },
    {
     "name": "stdout",
     "output_type": "stream",
     "text": [
      "Extracting data\\FashionMNIST\\raw\\t10k-labels-idx1-ubyte.gz to data\\FashionMNIST\\raw\n",
      "\n"
     ]
    },
    {
     "name": "stderr",
     "output_type": "stream",
     "text": [
      "\n"
     ]
    }
   ],
   "source": [
    "import torch\n",
    "from torch.utils.data import Dataset\n",
    "from torchvision import datasets\n",
    "from torchvision.transforms import ToTensor\n",
    "import matplotlib.pyplot as plt\n",
    "\n",
    "\n",
    "training_data = datasets.FashionMNIST(\n",
    "    root=\"data\",\n",
    "    train=True,\n",
    "    download=True,\n",
    "    transform=ToTensor()\n",
    ")\n",
    "\n",
    "test_data = datasets.FashionMNIST(\n",
    "    root=\"data\",\n",
    "    train=False,\n",
    "    download=True,\n",
    "    transform=ToTensor())"
   ]
  },
  {
   "cell_type": "code",
   "execution_count": 41,
   "metadata": {},
   "outputs": [
    {
     "name": "stdout",
     "output_type": "stream",
     "text": [
      "torch.Size([28, 28])\n",
      "torch.Size([28, 28])\n",
      "torch.Size([28, 28])\n",
      "torch.Size([28, 28])\n",
      "torch.Size([28, 28])\n",
      "torch.Size([28, 28])\n",
      "torch.Size([28, 28])\n",
      "torch.Size([28, 28])\n",
      "torch.Size([28, 28])\n"
     ]
    },
    {
     "data": {
      "image/png": "[encoded data removed]",
      "text/plain": [
       "<Figure size 800x800 with 9 Axes>"
      ]
     },
     "metadata": {},
     "output_type": "display_data"
    }
   ],
   "source": [
    "labels_map = {\n",
    "    0: \"T-Shirt\",\n",
    "    1: \"Trouser\",\n",
    "    2: \"Pullover\",\n",
    "    3: \"Dress\",\n",
    "    4: \"Coat\",\n",
    "    5: \"Sandal\",\n",
    "    6: \"Shirt\",\n",
    "    7: \"Sneaker\",\n",
    "    8: \"Bag\",\n",
    "    9: \"Ankle Boot\",\n",
    "}\n",
    "figure = plt.figure(figsize=(8, 8))\n",
    "cols, rows = 3, 3\n",
    "for i in range(1, cols * rows + 1):\n",
    "    sample_idx = torch.randint(len(training_data), size=(1,)).item()\n",
    "    img, label = training_data[sample_idx]\n",
    "    figure.add_subplot(rows, cols, i)\n",
    "    plt.title(labels_map[label])\n",
    "    plt.axis(\"off\")\n",
    "    plt.imshow(img.squeeze(), cmap=\"gray\")\n",
    "    print(img.squeeze().shape)\n",
    "plt.show()"
   ]
  }
 ],
 "metadata": {
  "kernelspec": {
   "display_name": "Python 3",
   "language": "python",
   "name": "python3"
  },
  "language_info": {
   "codemirror_mode": {
    "name": "ipython",
    "version": 3
   },
   "file_extension": ".py",
   "mimetype": "text/x-python",
   "name": "python",
   "nbconvert_exporter": "python",
   "pygments_lexer": "ipython3",
   "version": "3.10.10"
  },
  "orig_nbformat": 4,
  "vscode": {
   "interpreter": {
    "hash": "b20f316c585e7a5e0efc1936e717531d29288ed2cb765f4aaebf82bcdb2b662b"
   }
  }
 },
 "nbformat": 4,
 "nbformat_minor": 2
}
