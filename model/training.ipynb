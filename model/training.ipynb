{
 "cells": [
  {
   "cell_type": "code",
   "execution_count": 1,
   "metadata": {
    "collapsed": true,
    "ExecuteTime": {
     "start_time": "2023-05-13T20:26:52.759798Z",
     "end_time": "2023-05-13T20:26:54.078107Z"
    }
   },
   "outputs": [],
   "source": [
    "import cdm\n",
    "import numpy as np\n",
    "import torch"
   ]
  },
  {
   "cell_type": "code",
   "execution_count": 2,
   "outputs": [],
   "source": [
    "device = torch.device(\"cuda\" if torch.cuda.is_available() else \"cpu\")\n",
    "model = cdm.VariationalDiffusion(32,32, n_blocks=4).to(device)"
   ],
   "metadata": {
    "collapsed": false,
    "ExecuteTime": {
     "start_time": "2023-05-13T20:26:54.082097Z",
     "end_time": "2023-05-13T20:26:54.126531Z"
    }
   }
  },
  {
   "cell_type": "code",
   "execution_count": 3,
   "outputs": [],
   "source": [
    "def loss(model: cdm.VariationalDiffusion, img, conditioning=None, beta=1.):\n",
    "    l1, l2, l3 = model(img, conditioning)\n",
    "    rescale = 1. / (np.prod(img.shape[1:]) * np.log(2.)) # bpd\n",
    "    return rescale * (l1.mean()/beta + l2.mean()/beta + l3.mean())\n",
    "\n",
    "\n",
    "# Load MNIST dataset\n",
    "from torchvision import datasets, transforms\n",
    "transform = transforms.Compose([transforms.ToTensor()])\n",
    "trainset = datasets.MNIST(root='./data', train=True, download=False, transform=transform)"
   ],
   "metadata": {
    "collapsed": false,
    "ExecuteTime": {
     "start_time": "2023-05-13T20:26:54.126531Z",
     "end_time": "2023-05-13T20:26:54.647135Z"
    }
   }
  },
  {
   "cell_type": "code",
   "execution_count": 4,
   "outputs": [],
   "source": [
    "def train(model: cdm.VariationalDiffusion, lr=8e-4, epochs=15, trainset=trainset):\n",
    "    # Create dataloader\n",
    "    from torch.utils.data import DataLoader\n",
    "\n",
    "    trainloader = DataLoader(trainset, batch_size=512, shuffle=True, num_workers=2)\n",
    "\n",
    "    # AdamW optimizer with linear warmup and cosine decay\n",
    "    from torch.optim import AdamW\n",
    "\n",
    "    optimizer = AdamW(model.parameters(), lr=lr, weight_decay=1e-4)\n",
    "    #scheduler = torch.optim.lr_scheduler.LinearLR(optimizer, start_factor=0.1, end_factor=1, total_iters= 250)\n",
    "    #scheduler_decay = torch.optim.lr_scheduler.CosineAnnealingLR(optimizer, T_max=epochs, eta_min=0.0)\n",
    "    #chain_scheduler = torch.optim.lr_scheduler.ChainedScheduler([scheduler, scheduler_decay])\n",
    "    # Train\n",
    "    for epoch in range(epochs):\n",
    "        for i, (img, label) in enumerate(trainloader):\n",
    "            optimizer.zero_grad()\n",
    "            loss(model, img, 0 * label).backward()\n",
    "            optimizer.step()\n",
    "            #chain_scheduler.step()\n",
    "            if i % 100 == 0:\n",
    "                print(f\"Epoch {epoch}, step {i}, loss {loss(model, img, 0 * label)}\")\n",
    "\n",
    "    # Print the total loss\n",
    "    #img = trainset[0][0].unsqueeze(0)\n",
    "    #print(loss(model, img, conditioning))"
   ],
   "metadata": {
    "collapsed": false,
    "ExecuteTime": {
     "start_time": "2023-05-13T20:26:54.648133Z",
     "end_time": "2023-05-13T20:26:54.661877Z"
    }
   }
  },
  {
   "cell_type": "code",
   "execution_count": 5,
   "outputs": [],
   "source": [
    "import matplotlib.pyplot as plt"
   ],
   "metadata": {
    "collapsed": false,
    "ExecuteTime": {
     "start_time": "2023-05-13T20:26:54.664871Z",
     "end_time": "2023-05-13T20:26:55.386809Z"
    }
   }
  },
  {
   "cell_type": "code",
   "execution_count": 6,
   "outputs": [
    {
     "name": "stderr",
     "output_type": "stream",
     "text": [
      "C:\\Users\\nikos\\OneDrive\\Υπολογιστής\\Programming\\DiffusionVM\\model\\cdm.py:142: UserWarning: To copy construct from a tensor, it is recommended to use sourceTensor.clone().detach() or sourceTensor.clone().detach().requires_grad_(True), rather than torch.tensor(sourceTensor).\n",
      "  return torch.tensor(gamma_max + (gamma_min - gamma_max) * ts)\n"
     ]
    },
    {
     "name": "stdout",
     "output_type": "stream",
     "text": [
      "Epoch 0, step 0, loss 1.597156047821045\n",
      "Epoch 1, step 0, loss 1.3912993669509888\n",
      "Epoch 2, step 0, loss 1.3767560720443726\n",
      "Epoch 3, step 0, loss 1.3718971014022827\n",
      "Epoch 4, step 0, loss 1.3680368661880493\n",
      "Epoch 5, step 0, loss 1.3667405843734741\n",
      "Epoch 6, step 0, loss 1.3638511896133423\n",
      "Epoch 7, step 0, loss 1.3624485731124878\n",
      "Epoch 8, step 0, loss 1.3612655401229858\n",
      "Epoch 9, step 0, loss 1.3608005046844482\n",
      "Epoch 10, step 0, loss 1.3599669933319092\n",
      "Epoch 11, step 0, loss 1.3604276180267334\n",
      "Epoch 12, step 0, loss 1.3590288162231445\n",
      "Epoch 13, step 0, loss 1.3589966297149658\n",
      "Epoch 14, step 0, loss 1.357414960861206\n",
      "Epoch 15, step 0, loss 1.35701584815979\n",
      "Epoch 16, step 0, loss 1.3563728332519531\n",
      "Epoch 17, step 0, loss 1.3564544916152954\n",
      "Epoch 18, step 0, loss 1.355211853981018\n",
      "Epoch 19, step 0, loss 1.3551191091537476\n",
      "Epoch 20, step 0, loss 1.3553650379180908\n",
      "Epoch 21, step 0, loss 1.3548005819320679\n",
      "Epoch 22, step 0, loss 1.3537074327468872\n",
      "Epoch 23, step 0, loss 1.3536587953567505\n",
      "Epoch 24, step 0, loss 1.3537589311599731\n"
     ]
    }
   ],
   "source": [
    "# Train the model\n",
    "train(model, lr=8e-4, epochs=25)"
   ],
   "metadata": {
    "collapsed": false,
    "ExecuteTime": {
     "start_time": "2023-05-13T20:26:55.392793Z",
     "end_time": "2023-05-13T20:35:26.178762Z"
    }
   }
  },
  {
   "cell_type": "code",
   "execution_count": 7,
   "outputs": [
    {
     "name": "stdout",
     "output_type": "stream",
     "text": [
      "torch.Size([3, 32, 32])\n"
     ]
    }
   ],
   "source": [
    "# Get 5 pics with their labels\n",
    "img, lbs = trainset[56]\n",
    "print(img.shape)\n",
    "lbs = torch.tensor([lbs])\n",
    "\"\"\"\"\"\n",
    "print(lbs)\n",
    "for i in model(img, lbs):\n",
    "    print(i.mean() * (1./  (np.prod(img.shape[1:]) * np.log(2.))))\n",
    "print(loss(model, img, lbs))\n",
    "\"\"\"\n",
    "img = np.reshape(img, (1, 1, 28, 28))\n",
    "#cond_vector = model.embedding_vectors(lbs)\n",
    "sample = model.recon(img, 1000, 0.0, 0 * lbs)"
   ],
   "metadata": {
    "collapsed": false,
    "ExecuteTime": {
     "start_time": "2023-05-13T20:35:54.071247Z",
     "end_time": "2023-05-13T20:35:54.091195Z"
    }
   }
  },
  {
   "cell_type": "code",
   "execution_count": 8,
   "outputs": [
    {
     "data": {
      "text/plain": "<Figure size 640x480 with 1 Axes>",
      "image/png": "[encoded data removed]"
     },
     "metadata": {},
     "output_type": "display_data"
    }
   ],
   "source": [
    "# Plot the input and sample\n",
    "def imshow(img):\n",
    "    img = img / 2 + 0.5     # unnormalize\n",
    "    npimg = img.detach().numpy()\n",
    "    plt.imshow(np.transpose(npimg, (1, 2, 0)))\n",
    "    plt.show()\n",
    "\n",
    "imshow(img.reshape(3, 32, 32))\n"
   ],
   "metadata": {
    "collapsed": false,
    "ExecuteTime": {
     "start_time": "2023-05-13T20:35:54.594230Z",
     "end_time": "2023-05-13T20:35:54.807660Z"
    }
   }
  },
  {
   "cell_type": "code",
   "execution_count": 9,
   "outputs": [
    {
     "data": {
      "text/plain": "<Figure size 640x480 with 1 Axes>",
      "image/png": "[encoded data removed]"
     },
     "metadata": {},
     "output_type": "display_data"
    }
   ],
   "source": [
    "imshow(sample.reshape(1, 28, 28))"
   ],
   "metadata": {
    "collapsed": false,
    "ExecuteTime": {
     "start_time": "2023-05-13T20:35:55.729124Z",
     "end_time": "2023-05-13T20:35:55.827828Z"
    }
   }
  },
  {
   "cell_type": "code",
   "execution_count": 3,
   "outputs": [
    {
     "name": "stdout",
     "output_type": "stream",
     "text": [
      "Layer: dense1.weight | Size: torch.Size([64, 64]) | Values : tensor([[ 0.0160,  0.0946, -0.1176,  0.1217,  0.0577, -0.0104, -0.0311,  0.0284,\n",
      "         -0.0148,  0.1003, -0.0082, -0.0853,  0.0733,  0.0187, -0.0053, -0.0182,\n",
      "         -0.0549,  0.0200,  0.0180,  0.0357, -0.0771,  0.0609,  0.0068,  0.0948,\n",
      "          0.1058, -0.1080, -0.0979,  0.0785, -0.1196,  0.0313,  0.0683,  0.0657,\n",
      "         -0.0343, -0.0015,  0.0382,  0.1038,  0.0082, -0.0015, -0.0167, -0.0462,\n",
      "          0.1209,  0.0979,  0.0906,  0.0519,  0.0424,  0.0475, -0.0577,  0.1019,\n",
      "          0.1156, -0.0348,  0.1173, -0.0167, -0.1213, -0.0411, -0.0379, -0.0885,\n",
      "         -0.0773,  0.1178, -0.0044,  0.0307, -0.1166,  0.1165,  0.0636,  0.0549],\n",
      "        [-0.0330,  0.1199,  0.0038,  0.0448, -0.0969, -0.0399, -0.0967,  0.0885,\n",
      "          0.0022,  0.0655, -0.0509,  0.0693,  0.1014,  0.0973, -0.0718,  0.0542,\n",
      "         -0.0473,  0.1001, -0.0661,  0.1199, -0.0006, -0.0099, -0.0112, -0.0690,\n",
      "          0.0983, -0.0302, -0.0790,  0.0133,  0.0474,  0.0434,  0.0629,  0.0706,\n",
      "         -0.0723, -0.0037,  0.0462,  0.1242,  0.0903,  0.0029, -0.0114, -0.0252,\n",
      "          0.1016,  0.1031, -0.0291,  0.0766,  0.0477,  0.0631, -0.0761,  0.0472,\n",
      "         -0.0156,  0.0833, -0.0172,  0.0527,  0.1103,  0.0470,  0.0590, -0.0126,\n",
      "          0.0988, -0.0659,  0.0945,  0.0811,  0.0714, -0.0373,  0.1019,  0.0976]],\n",
      "       grad_fn=<SliceBackward0>) \n",
      "\n",
      "Layer: dense1.bias | Size: torch.Size([64]) | Values : tensor([ 0.0264, -0.0964], grad_fn=<SliceBackward0>) \n",
      "\n",
      "Layer: dense2.weight | Size: torch.Size([64, 64]) | Values : tensor([[ 0.0418,  0.0755,  0.0865, -0.0537, -0.0524, -0.0583,  0.0276, -0.0254,\n",
      "         -0.1006,  0.0548,  0.0792,  0.0367,  0.0985, -0.1059,  0.0903, -0.0178,\n",
      "          0.0057, -0.1101,  0.0910,  0.1060, -0.0027, -0.1159, -0.0347, -0.0216,\n",
      "          0.0588, -0.0770,  0.0300,  0.0547, -0.1015, -0.0961, -0.0492, -0.0931,\n",
      "          0.0744, -0.1139, -0.0328,  0.0838, -0.0625,  0.0300,  0.0665, -0.0764,\n",
      "         -0.0979,  0.0358,  0.0835, -0.1043,  0.0219,  0.0467, -0.1173, -0.0550,\n",
      "          0.0271,  0.0882, -0.0785,  0.0097,  0.0605,  0.1227, -0.0075,  0.0096,\n",
      "          0.1039,  0.0780, -0.0405,  0.0756,  0.1246,  0.0075, -0.0628, -0.0624],\n",
      "        [-0.0869, -0.0809,  0.0320, -0.0377,  0.1218, -0.0254,  0.0662,  0.1157,\n",
      "         -0.1059,  0.0744,  0.0281,  0.0847, -0.0820, -0.0860,  0.0520, -0.1122,\n",
      "         -0.1133,  0.0859,  0.1067,  0.1025, -0.0650, -0.0356, -0.0368, -0.1241,\n",
      "         -0.1239,  0.0985,  0.0670,  0.1024,  0.0044,  0.0353, -0.1165,  0.1156,\n",
      "          0.1168, -0.0353, -0.0303, -0.0425, -0.0230, -0.1182, -0.0881,  0.1131,\n",
      "          0.0506, -0.1022,  0.0362, -0.1237, -0.0020, -0.0262,  0.0010, -0.0054,\n",
      "          0.0968,  0.0941,  0.0976, -0.1036,  0.0977, -0.0788,  0.0117, -0.0195,\n",
      "         -0.1228,  0.0238,  0.0187, -0.0713,  0.0856,  0.0015, -0.0204, -0.0464]],\n",
      "       grad_fn=<SliceBackward0>) \n",
      "\n",
      "Layer: dense2.bias | Size: torch.Size([64]) | Values : tensor([0.0305, 0.0979], grad_fn=<SliceBackward0>) \n",
      "\n",
      "Layer: dense3.weight | Size: torch.Size([32, 64]) | Values : tensor([[ 0.0496, -0.1147,  0.0895,  0.0210,  0.0707,  0.1218, -0.0893, -0.0523,\n",
      "          0.1019, -0.0524, -0.0828,  0.1035,  0.1078, -0.0266, -0.0280,  0.1183,\n",
      "         -0.0598,  0.0776,  0.0171, -0.0761,  0.1176, -0.0428,  0.0041, -0.1149,\n",
      "          0.1075, -0.1172, -0.1041, -0.0901,  0.0603, -0.0129,  0.0667,  0.0156,\n",
      "         -0.0576,  0.0454, -0.0031, -0.0225, -0.1024, -0.0044, -0.0547, -0.0627,\n",
      "          0.0552,  0.0097,  0.0483,  0.0798,  0.1191,  0.0406,  0.0636,  0.0964,\n",
      "         -0.0524,  0.0813, -0.1129, -0.1111,  0.0905,  0.1206,  0.0649,  0.0058,\n",
      "         -0.0568, -0.0094,  0.0429,  0.0180, -0.0357,  0.0652, -0.1099, -0.0723],\n",
      "        [ 0.0439, -0.0794,  0.0125,  0.0166,  0.0299, -0.0477, -0.0771,  0.0920,\n",
      "         -0.0898, -0.0020, -0.0626, -0.0583,  0.0665, -0.1095, -0.0766,  0.0923,\n",
      "         -0.1087, -0.1133, -0.0896, -0.1034, -0.0321,  0.1175, -0.0894,  0.0716,\n",
      "         -0.0602,  0.0687,  0.0453,  0.0152, -0.0076, -0.0363, -0.0202,  0.0321,\n",
      "          0.0664,  0.0626, -0.0428, -0.0714,  0.0909, -0.1082, -0.1098,  0.0836,\n",
      "         -0.0030,  0.0196,  0.0517,  0.0013,  0.0432, -0.0397,  0.0670,  0.0427,\n",
      "         -0.1085,  0.0276,  0.0490, -0.0442, -0.0262, -0.0894,  0.0990, -0.0627,\n",
      "          0.0902, -0.0600,  0.0303,  0.0100, -0.0898, -0.0209,  0.0145,  0.1020]],\n",
      "       grad_fn=<SliceBackward0>) \n",
      "\n",
      "Layer: dense3.bias | Size: torch.Size([32]) | Values : tensor([0.0554, 0.0669], grad_fn=<SliceBackward0>) \n",
      "\n",
      "Layer: dense4.weight | Size: torch.Size([32, 32]) | Values : tensor([[-0.0860, -0.0512, -0.0439, -0.0328,  0.0648, -0.1129,  0.0998, -0.0969,\n",
      "         -0.0711,  0.1478, -0.0766,  0.0835, -0.1356,  0.0889, -0.1710, -0.1023,\n",
      "         -0.0525,  0.0369,  0.0187, -0.0323,  0.1569,  0.1758, -0.0455,  0.0909,\n",
      "         -0.1359,  0.1211,  0.0381,  0.0027,  0.0402, -0.0834,  0.0820, -0.0781],\n",
      "        [ 0.1636,  0.0474,  0.0750, -0.0849, -0.0455,  0.1662, -0.0627, -0.1596,\n",
      "          0.0397,  0.1597,  0.0805,  0.1658,  0.0039, -0.0250, -0.0463, -0.1653,\n",
      "         -0.1183, -0.1448, -0.1421, -0.0455,  0.1011,  0.0276,  0.1264,  0.1090,\n",
      "          0.0955,  0.0376,  0.0436, -0.0735,  0.0396,  0.1128,  0.1011,  0.0131]],\n",
      "       grad_fn=<SliceBackward0>) \n",
      "\n",
      "Layer: dense4.bias | Size: torch.Size([32]) | Values : tensor([-0.1054,  0.0294], grad_fn=<SliceBackward0>) \n",
      "\n",
      "Layer: resnet.blocks.0.0.weight | Size: torch.Size([32]) | Values : tensor([1., 1.], grad_fn=<SliceBackward0>) \n",
      "\n",
      "Layer: resnet.blocks.0.0.bias | Size: torch.Size([32]) | Values : tensor([0., 0.], grad_fn=<SliceBackward0>) \n",
      "\n",
      "Layer: resnet.blocks.0.2.weight | Size: torch.Size([32, 32]) | Values : tensor([[-0.0152, -0.1575,  0.0253,  0.0724, -0.0832, -0.0365, -0.1126,  0.0492,\n",
      "          0.1439, -0.0301,  0.0721,  0.0125, -0.0161,  0.1648,  0.0112,  0.0564,\n",
      "         -0.1340,  0.1420,  0.0378,  0.1648,  0.0377, -0.0390, -0.0761, -0.1100,\n",
      "          0.0344,  0.0618,  0.0947, -0.0649,  0.0449,  0.1155,  0.1286, -0.1336],\n",
      "        [-0.1553,  0.1092,  0.1379,  0.0588,  0.1407,  0.0274, -0.1149, -0.0849,\n",
      "         -0.1661, -0.1760, -0.0476,  0.1595, -0.1714,  0.1014, -0.1127, -0.0448,\n",
      "          0.0528, -0.0481,  0.0915,  0.0786, -0.1659, -0.0791,  0.0994,  0.1514,\n",
      "          0.0780, -0.1334,  0.1373, -0.1188,  0.0924,  0.1445,  0.1287,  0.1466]],\n",
      "       grad_fn=<SliceBackward0>) \n",
      "\n",
      "Layer: resnet.blocks.0.2.bias | Size: torch.Size([32]) | Values : tensor([-0.1541,  0.0579], grad_fn=<SliceBackward0>) \n",
      "\n",
      "Layer: resnet.blocks.1.0.weight | Size: torch.Size([32]) | Values : tensor([1., 1.], grad_fn=<SliceBackward0>) \n",
      "\n",
      "Layer: resnet.blocks.1.0.bias | Size: torch.Size([32]) | Values : tensor([0., 0.], grad_fn=<SliceBackward0>) \n",
      "\n",
      "Layer: resnet.blocks.1.2.weight | Size: torch.Size([32, 32]) | Values : tensor([[-0.0096, -0.1085, -0.0186,  0.0947,  0.0473,  0.0731,  0.1234,  0.0338,\n",
      "         -0.0764,  0.0095,  0.0723, -0.0890,  0.0615, -0.0373,  0.1423,  0.0953,\n",
      "         -0.1615, -0.0975, -0.0278, -0.0431, -0.1238, -0.1164, -0.0276,  0.0496,\n",
      "          0.1354,  0.0600, -0.0774, -0.0865,  0.0116, -0.0179, -0.1506, -0.0308],\n",
      "        [-0.0100,  0.0011,  0.0439,  0.1008, -0.0744, -0.1340, -0.0911, -0.1203,\n",
      "          0.1195,  0.1202,  0.1501,  0.1625,  0.0488, -0.0204, -0.1007,  0.1076,\n",
      "         -0.1171, -0.0187, -0.1533,  0.1757,  0.0209,  0.1258,  0.0557, -0.1246,\n",
      "         -0.0041,  0.0695, -0.1293,  0.1297,  0.0068,  0.0926,  0.1549, -0.0510]],\n",
      "       grad_fn=<SliceBackward0>) \n",
      "\n",
      "Layer: resnet.blocks.1.2.bias | Size: torch.Size([32]) | Values : tensor([ 0.1067, -0.0796], grad_fn=<SliceBackward0>) \n",
      "\n",
      "Layer: resnet.blocks.2.0.weight | Size: torch.Size([32]) | Values : tensor([1., 1.], grad_fn=<SliceBackward0>) \n",
      "\n",
      "Layer: resnet.blocks.2.0.bias | Size: torch.Size([32]) | Values : tensor([0., 0.], grad_fn=<SliceBackward0>) \n",
      "\n",
      "Layer: resnet.blocks.2.2.weight | Size: torch.Size([32, 32]) | Values : tensor([[-0.0409,  0.0439,  0.0589,  0.0355,  0.1203, -0.1680, -0.0356,  0.1734,\n",
      "          0.1580,  0.1637,  0.1305, -0.1030, -0.0204, -0.1580, -0.0424, -0.1604,\n",
      "         -0.1067,  0.0548,  0.0243, -0.0977,  0.1471, -0.0619,  0.1301,  0.0170,\n",
      "         -0.1286, -0.1363, -0.0948, -0.0805, -0.1623, -0.1339,  0.0726,  0.0912],\n",
      "        [-0.0309, -0.1050, -0.1009,  0.1454, -0.1325,  0.0903,  0.1701,  0.1442,\n",
      "          0.1134, -0.0692, -0.1598,  0.0942,  0.1622, -0.0332,  0.1730,  0.1140,\n",
      "          0.0659,  0.0759,  0.0118, -0.0576,  0.1704, -0.0450, -0.1211, -0.1613,\n",
      "          0.0786, -0.0054,  0.1279, -0.0231,  0.0392,  0.0680,  0.0158,  0.0673]],\n",
      "       grad_fn=<SliceBackward0>) \n",
      "\n",
      "Layer: resnet.blocks.2.2.bias | Size: torch.Size([32]) | Values : tensor([0.0155, 0.1146], grad_fn=<SliceBackward0>) \n",
      "\n",
      "Layer: resnet.blocks.3.0.weight | Size: torch.Size([32]) | Values : tensor([1., 1.], grad_fn=<SliceBackward0>) \n",
      "\n",
      "Layer: resnet.blocks.3.0.bias | Size: torch.Size([32]) | Values : tensor([0., 0.], grad_fn=<SliceBackward0>) \n",
      "\n",
      "Layer: resnet.blocks.3.2.weight | Size: torch.Size([32, 32]) | Values : tensor([[-0.0552,  0.0025, -0.1333, -0.0274, -0.1488, -0.0804, -0.1635,  0.0163,\n",
      "          0.1445, -0.0889, -0.1110,  0.0878, -0.0198,  0.1361,  0.1677,  0.0776,\n",
      "         -0.0247, -0.1664,  0.0852, -0.1313,  0.0765, -0.0385, -0.0500, -0.1333,\n",
      "         -0.0160, -0.1287,  0.0244,  0.0160, -0.0750, -0.1598, -0.0788,  0.1625],\n",
      "        [ 0.0880, -0.1635,  0.1428,  0.0741,  0.1223,  0.1248,  0.0277,  0.0249,\n",
      "          0.1301,  0.1255,  0.1429,  0.0115, -0.0523, -0.1705, -0.1048,  0.0464,\n",
      "          0.1080,  0.1438,  0.0851, -0.0273,  0.0711,  0.0675, -0.0632,  0.0391,\n",
      "          0.0436, -0.1548,  0.1670, -0.0703, -0.1077,  0.1281,  0.0265, -0.1397]],\n",
      "       grad_fn=<SliceBackward0>) \n",
      "\n",
      "Layer: resnet.blocks.3.2.bias | Size: torch.Size([32]) | Values : tensor([-0.0106,  0.0108], grad_fn=<SliceBackward0>) \n",
      "\n",
      "Layer: resnet.cond_dense.weight | Size: torch.Size([32, 32]) | Values : tensor([[ 0.1611, -0.0430, -0.0292, -0.0684,  0.1548, -0.1573,  0.0496, -0.0297,\n",
      "          0.0613,  0.1701,  0.1510, -0.0472, -0.0010,  0.1734, -0.1491, -0.1255,\n",
      "         -0.0501, -0.0593,  0.0833,  0.0551, -0.0481,  0.0352, -0.1765, -0.0995,\n",
      "          0.1045,  0.1369,  0.1529, -0.1557, -0.0755,  0.0743, -0.0999, -0.0486],\n",
      "        [ 0.1423,  0.1262, -0.0996,  0.0375, -0.0384,  0.0091, -0.0317,  0.1082,\n",
      "          0.0368,  0.0521,  0.1428,  0.1394, -0.0147, -0.1063, -0.0656,  0.1628,\n",
      "         -0.0369,  0.1331, -0.1742,  0.0452,  0.1605, -0.1009,  0.1055,  0.0990,\n",
      "         -0.0698, -0.1042, -0.0800, -0.0266, -0.0161, -0.1652,  0.1447,  0.0066]],\n",
      "       grad_fn=<SliceBackward0>) \n",
      "\n",
      "Layer: resnet.last_block.0.weight | Size: torch.Size([32]) | Values : tensor([1., 1.], grad_fn=<SliceBackward0>) \n",
      "\n",
      "Layer: resnet.last_block.0.bias | Size: torch.Size([32]) | Values : tensor([0., 0.], grad_fn=<SliceBackward0>) \n",
      "\n",
      "Layer: resnet.last_block.2.weight | Size: torch.Size([32, 32]) | Values : tensor([[-0.1146,  0.1184,  0.0011,  0.1105,  0.0292,  0.0515, -0.0811,  0.0975,\n",
      "         -0.1556,  0.1707,  0.0826, -0.0951,  0.0715, -0.1210, -0.1036,  0.0418,\n",
      "          0.1525, -0.1342,  0.0423,  0.1334,  0.0546,  0.0298, -0.1201,  0.0310,\n",
      "         -0.1197,  0.0745,  0.1289,  0.0193,  0.0555, -0.0239,  0.0286,  0.0844],\n",
      "        [-0.0723, -0.0963, -0.0050,  0.1416, -0.1359,  0.1711, -0.1100, -0.1176,\n",
      "          0.1502, -0.1642,  0.1497, -0.0348,  0.0604, -0.0643, -0.0685,  0.1576,\n",
      "          0.0227,  0.0496, -0.1263,  0.0687,  0.0408, -0.1666,  0.1275, -0.1530,\n",
      "          0.0393,  0.1167, -0.1218, -0.1579,  0.1493, -0.1338,  0.0478, -0.1547]],\n",
      "       grad_fn=<SliceBackward0>) \n",
      "\n",
      "Layer: resnet.last_block.2.bias | Size: torch.Size([32]) | Values : tensor([-0.1297,  0.0919], grad_fn=<SliceBackward0>) \n",
      "\n",
      "Total trainable layers: 29\n"
     ]
    }
   ],
   "source": [
    "num_layers = 0\n",
    "for name, param in model.score_net.named_parameters():\n",
    "    num_layers += 1\n",
    "    print(f\"Layer: {name} | Size: {param.size()} | Values : {param[:2]} \\n\")\n",
    "print(f\"Total trainable layers: {num_layers}\")\n"
   ],
   "metadata": {
    "collapsed": false
   }
  },
  {
   "cell_type": "code",
   "execution_count": null,
   "outputs": [],
   "source": [],
   "metadata": {
    "collapsed": false
   }
  }
 ],
 "metadata": {
  "kernelspec": {
   "display_name": "Python 3",
   "language": "python",
   "name": "python3"
  },
  "language_info": {
   "codemirror_mode": {
    "name": "ipython",
    "version": 2
   },
   "file_extension": ".py",
   "mimetype": "text/x-python",
   "name": "python",
   "nbconvert_exporter": "python",
   "pygments_lexer": "ipython2",
   "version": "2.7.6"
  }
 },
 "nbformat": 4,
 "nbformat_minor": 0
}
